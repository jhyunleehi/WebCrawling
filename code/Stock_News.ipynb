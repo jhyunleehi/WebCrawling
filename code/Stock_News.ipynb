{
 "cells": [
  {
   "cell_type": "code",
   "execution_count": 1,
   "id": "0a2536fb",
   "metadata": {},
   "outputs": [],
   "source": [
    "import requests"
   ]
  },
  {
   "cell_type": "code",
   "execution_count": 2,
   "id": "48cbe4db",
   "metadata": {},
   "outputs": [],
   "source": [
    "url = 'https://finance.naver.com/news/mainnews.naver'"
   ]
  },
  {
   "cell_type": "code",
   "execution_count": 3,
   "id": "693b038b",
   "metadata": {},
   "outputs": [],
   "source": [
    "query = {\n",
    "    'date': '2023-01-01',\n",
    "    'page': 1\n",
    "}"
   ]
  },
  {
   "cell_type": "code",
   "execution_count": 4,
   "id": "4b7c9976",
   "metadata": {},
   "outputs": [],
   "source": [
    "res = requests.get(url = url, params = query)"
   ]
  },
  {
   "cell_type": "code",
   "execution_count": 5,
   "id": "1c186e06",
   "metadata": {},
   "outputs": [
    {
     "data": {
      "text/plain": [
       "200"
      ]
     },
     "execution_count": 5,
     "metadata": {},
     "output_type": "execute_result"
    }
   ],
   "source": [
    "res.status_code"
   ]
  },
  {
   "cell_type": "code",
   "execution_count": 6,
   "id": "8ca3b06c",
   "metadata": {},
   "outputs": [
    {
     "data": {
      "text/plain": [
       "'text/html;charset=EUC-KR'"
      ]
     },
     "execution_count": 6,
     "metadata": {},
     "output_type": "execute_result"
    }
   ],
   "source": [
    "res.headers['content-type']"
   ]
  },
  {
   "cell_type": "code",
   "execution_count": 7,
   "id": "858f4197",
   "metadata": {},
   "outputs": [],
   "source": [
    "from bs4 import BeautifulSoup as bts"
   ]
  },
  {
   "cell_type": "code",
   "execution_count": 8,
   "id": "0172e83e",
   "metadata": {},
   "outputs": [],
   "source": [
    "soup = bts(markup = res.text, features = 'html.parser')"
   ]
  },
  {
   "cell_type": "code",
   "execution_count": 12,
   "id": "c227a229",
   "metadata": {},
   "outputs": [
    {
     "data": {
      "text/plain": [
       "4"
      ]
     },
     "execution_count": 12,
     "metadata": {},
     "output_type": "execute_result"
    }
   ],
   "source": [
    "items = soup.select('.articleSubject > a')\n",
    "len(items)"
   ]
  },
  {
   "cell_type": "code",
   "execution_count": 13,
   "id": "a6433878",
   "metadata": {},
   "outputs": [
    {
     "data": {
      "text/plain": [
       "[<a href=\"/news/news_read.naver?article_id=0004949843&amp;office_id=014&amp;mode=mainnews&amp;type=&amp;date=2023-01-01&amp;page=1\">침체 우려 속 ‘1월 효과’ 기대... 美 금리 방향성 가장 큰 변수 [주간 증시 전망]</a>,\n",
       " <a href=\"/news/news_read.naver?article_id=0005397624&amp;office_id=018&amp;mode=mainnews&amp;type=&amp;date=2023-01-01&amp;page=1\">[펀드와치]급락장에 웃은 코스닥 인버스…\"1월 효과 주목\"</a>,\n",
       " <a href=\"/news/news_read.naver?article_id=0005397588&amp;office_id=018&amp;mode=mainnews&amp;type=&amp;date=2023-01-01&amp;page=1\">[주간증시전망]1월효과에 쏠리는 눈…종목장세 전망</a>,\n",
       " <a href=\"/news/news_read.naver?article_id=0004835033&amp;office_id=008&amp;mode=mainnews&amp;type=&amp;date=2023-01-01&amp;page=1\">'최악 2022' 넘긴 美증시, 새해 상반기 더 나쁠 수 있지만…[월가시각]</a>]"
      ]
     },
     "execution_count": 13,
     "metadata": {},
     "output_type": "execute_result"
    }
   ],
   "source": [
    "items"
   ]
  },
  {
   "cell_type": "code",
   "execution_count": 14,
   "id": "97ef026e",
   "metadata": {},
   "outputs": [
    {
     "data": {
      "text/plain": [
       "['침체 우려 속 ‘1월 효과’ 기대... 美 금리 방향성 가장 큰 변수 [주간 증시 전망]',\n",
       " '[펀드와치]급락장에 웃은 코스닥 인버스…\"1월 효과 주목\"',\n",
       " '[주간증시전망]1월효과에 쏠리는 눈…종목장세 전망',\n",
       " \"'최악 2022' 넘긴 美증시, 새해 상반기 더 나쁠 수 있지만…[월가시각]\"]"
      ]
     },
     "execution_count": 14,
     "metadata": {},
     "output_type": "execute_result"
    }
   ],
   "source": [
    "[item.text for item in items]"
   ]
  },
  {
   "cell_type": "code",
   "execution_count": 15,
   "id": "44d718a1",
   "metadata": {},
   "outputs": [
    {
     "data": {
      "text/plain": [
       "['/news/news_read.naver?article_id=0004949843&office_id=014&mode=mainnews&type=&date=2023-01-01&page=1',\n",
       " '/news/news_read.naver?article_id=0005397624&office_id=018&mode=mainnews&type=&date=2023-01-01&page=1',\n",
       " '/news/news_read.naver?article_id=0005397588&office_id=018&mode=mainnews&type=&date=2023-01-01&page=1',\n",
       " '/news/news_read.naver?article_id=0004835033&office_id=008&mode=mainnews&type=&date=2023-01-01&page=1']"
      ]
     },
     "execution_count": 15,
     "metadata": {},
     "output_type": "execute_result"
    }
   ],
   "source": [
    "[item['href'] for item in items]"
   ]
  },
  {
   "cell_type": "code",
   "execution_count": 16,
   "id": "329d288b",
   "metadata": {},
   "outputs": [],
   "source": [
    "class my_bts(bts):\n",
    "    def htmlText(self, css):\n",
    "        items = self.select(css)\n",
    "        return [item.text for item in items]\n",
    "    def htmlAttr(self, css, key):\n",
    "        items = self.select(css)\n",
    "        return [item[key] for item in items]"
   ]
  },
  {
   "cell_type": "code",
   "execution_count": 17,
   "id": "4d66464c",
   "metadata": {},
   "outputs": [],
   "source": [
    "soup = my_bts(markup = res.text, features = 'html.parser')"
   ]
  },
  {
   "cell_type": "code",
   "execution_count": 18,
   "id": "0a83953d",
   "metadata": {
    "collapsed": true
   },
   "outputs": [
    {
     "data": {
      "text/plain": [
       "['침체 우려 속 ‘1월 효과’ 기대... 美 금리 방향성 가장 큰 변수 [주간 증시 전망]',\n",
       " '[펀드와치]급락장에 웃은 코스닥 인버스…\"1월 효과 주목\"',\n",
       " '[주간증시전망]1월효과에 쏠리는 눈…종목장세 전망',\n",
       " \"'최악 2022' 넘긴 美증시, 새해 상반기 더 나쁠 수 있지만…[월가시각]\"]"
      ]
     },
     "execution_count": 18,
     "metadata": {},
     "output_type": "execute_result"
    }
   ],
   "source": [
    "soup.htmlText(css = '.articleSubject > a')"
   ]
  },
  {
   "cell_type": "code",
   "execution_count": 19,
   "id": "cf3f2ead",
   "metadata": {
    "collapsed": true
   },
   "outputs": [
    {
     "data": {
      "text/plain": [
       "['/news/news_read.naver?article_id=0004949843&office_id=014&mode=mainnews&type=&date=2023-01-01&page=1',\n",
       " '/news/news_read.naver?article_id=0005397624&office_id=018&mode=mainnews&type=&date=2023-01-01&page=1',\n",
       " '/news/news_read.naver?article_id=0005397588&office_id=018&mode=mainnews&type=&date=2023-01-01&page=1',\n",
       " '/news/news_read.naver?article_id=0004835033&office_id=008&mode=mainnews&type=&date=2023-01-01&page=1']"
      ]
     },
     "execution_count": 19,
     "metadata": {},
     "output_type": "execute_result"
    }
   ],
   "source": [
    "soup.htmlAttr(css = '.articleSubject > a', key = 'href')"
   ]
  },
  {
   "cell_type": "code",
   "execution_count": 20,
   "id": "7980ae6a",
   "metadata": {
    "collapsed": true
   },
   "outputs": [
    {
     "data": {
      "text/plain": [
       "[\"\\n\\t\\t\\t\\t\\t\\t\\t\\t\\t\\t1월 첫주 증시는 연말 증시 부진을 만회할 '1월 효과'에 대한 관심이 커질 것으로 보인다. 1월 효과는 특별한 호재는 없지만 투자자들..\\n\\t\\t\\t\\t\\t\\t\\t\\t\\t\\t파이낸셜뉴스 \\n|\\n2023-01-01 18:21:06\\n\",\n",
       " '\\n\\t\\t\\t\\t\\t\\t\\t\\t\\t\\t막주 국내 증시 인플레 부담·긴축·배당락에 하락세코스닥 1월 효과 볼만…\"코스피보다 반등 여력 높아\"주식형 펀드 국내 -3.85%, 해..\\n\\t\\t\\t\\t\\t\\t\\t\\t\\t\\t이데일리 \\n|\\n2023-01-01 10:24:01\\n',\n",
       " \"\\n\\t\\t\\t\\t\\t\\t\\t\\t\\t\\t경기침체 우려에 1월효과 '중립' 무게장단기 스프레드 축소시 연초 증시 호조 가능성도대형주 대비 중소형주 두각 전망[이데일리 김응태 기..\\n\\t\\t\\t\\t\\t\\t\\t\\t\\t\\t이데일리 \\n|\\n2023-01-01 09:41:01\\n\",\n",
       " \"\\n\\t\\t\\t\\t\\t\\t\\t\\t\\t\\t['상저하고' 전망이 대세… 관건은 경기침체 정도]Raindrops hang on a sign for Wall Street outsid..\\n\\t\\t\\t\\t\\t\\t\\t\\t\\t\\t머니투데이 \\n|\\n2023-01-01 08:21:16\\n\"]"
      ]
     },
     "execution_count": 20,
     "metadata": {},
     "output_type": "execute_result"
    }
   ],
   "source": [
    "soup.htmlText(css = '.articleSummary')"
   ]
  },
  {
   "cell_type": "code",
   "execution_count": 21,
   "id": "63fe5447",
   "metadata": {},
   "outputs": [
    {
     "data": {
      "text/plain": [
       "['파이낸셜뉴스 ', '이데일리 ', '이데일리 ', '머니투데이 ']"
      ]
     },
     "execution_count": 21,
     "metadata": {},
     "output_type": "execute_result"
    }
   ],
   "source": [
    "soup.htmlText(css = '.articleSummary > span.press')"
   ]
  },
  {
   "cell_type": "code",
   "execution_count": 22,
   "id": "f3cf0a2b",
   "metadata": {},
   "outputs": [
    {
     "data": {
      "text/plain": [
       "['2023-01-01 18:21:06',\n",
       " '2023-01-01 10:24:01',\n",
       " '2023-01-01 09:41:01',\n",
       " '2023-01-01 08:21:16']"
      ]
     },
     "execution_count": 22,
     "metadata": {},
     "output_type": "execute_result"
    }
   ],
   "source": [
    "soup.htmlText(css = '.articleSummary > span.wdate')"
   ]
  },
  {
   "cell_type": "code",
   "execution_count": 23,
   "id": "833a7985",
   "metadata": {
    "collapsed": true
   },
   "outputs": [
    {
     "data": {
      "text/plain": [
       "[<dd class=\"articleSummary\">\n",
       " \t\t\t\t\t\t\t\t\t\t1월 첫주 증시는 연말 증시 부진을 만회할 '1월 효과'에 대한 관심이 커질 것으로 보인다. 1월 효과는 특별한 호재는 없지만 투자자들..\n",
       " \t\t\t\t\t\t\t\t\t\t<span class=\"press\">파이낸셜뉴스 </span>\n",
       " <span class=\"bar\">|</span>\n",
       " <span class=\"wdate\">2023-01-01 18:21:06</span>\n",
       " </dd>,\n",
       " <dd class=\"articleSummary\">\n",
       " \t\t\t\t\t\t\t\t\t\t막주 국내 증시 인플레 부담·긴축·배당락에 하락세코스닥 1월 효과 볼만…\"코스피보다 반등 여력 높아\"주식형 펀드 국내 -3.85%, 해..\n",
       " \t\t\t\t\t\t\t\t\t\t<span class=\"press\">이데일리 </span>\n",
       " <span class=\"bar\">|</span>\n",
       " <span class=\"wdate\">2023-01-01 10:24:01</span>\n",
       " </dd>,\n",
       " <dd class=\"articleSummary\">\n",
       " \t\t\t\t\t\t\t\t\t\t경기침체 우려에 1월효과 '중립' 무게장단기 스프레드 축소시 연초 증시 호조 가능성도대형주 대비 중소형주 두각 전망[이데일리 김응태 기..\n",
       " \t\t\t\t\t\t\t\t\t\t<span class=\"press\">이데일리 </span>\n",
       " <span class=\"bar\">|</span>\n",
       " <span class=\"wdate\">2023-01-01 09:41:01</span>\n",
       " </dd>,\n",
       " <dd class=\"articleSummary\">\n",
       " \t\t\t\t\t\t\t\t\t\t['상저하고' 전망이 대세… 관건은 경기침체 정도]Raindrops hang on a sign for Wall Street outsid..\n",
       " \t\t\t\t\t\t\t\t\t\t<span class=\"press\">머니투데이 </span>\n",
       " <span class=\"bar\">|</span>\n",
       " <span class=\"wdate\">2023-01-01 08:21:16</span>\n",
       " </dd>]"
      ]
     },
     "execution_count": 23,
     "metadata": {},
     "output_type": "execute_result"
    }
   ],
   "source": [
    "items = soup.select('.articleSummary')\n",
    "items"
   ]
  },
  {
   "cell_type": "code",
   "execution_count": 28,
   "id": "12cc50f8",
   "metadata": {},
   "outputs": [
    {
     "data": {
      "text/plain": [
       "<span class=\"press\">파이낸셜뉴스 </span>"
      ]
     },
     "execution_count": 28,
     "metadata": {},
     "output_type": "execute_result"
    }
   ],
   "source": [
    "items[0].select('span.press')[0].extract()"
   ]
  },
  {
   "cell_type": "code",
   "execution_count": 30,
   "id": "32b656d4",
   "metadata": {},
   "outputs": [
    {
     "data": {
      "text/plain": [
       "<span class=\"wdate\">2023-01-01 18:21:06</span>"
      ]
     },
     "execution_count": 30,
     "metadata": {},
     "output_type": "execute_result"
    }
   ],
   "source": [
    "items[0].select('span.bar')[0].extract()\n",
    "items[0].select('span.wdate')[0].extract()"
   ]
  },
  {
   "cell_type": "code",
   "execution_count": 33,
   "id": "212a5b62",
   "metadata": {},
   "outputs": [
    {
     "data": {
      "text/plain": [
       "\"1월 첫주 증시는 연말 증시 부진을 만회할 '1월 효과'에 대한 관심이 커질 것으로 보인다. 1월 효과는 특별한 호재는 없지만 투자자들..\""
      ]
     },
     "execution_count": 33,
     "metadata": {},
     "output_type": "execute_result"
    }
   ],
   "source": [
    "items[0].text.strip()"
   ]
  },
  {
   "cell_type": "code",
   "execution_count": 34,
   "id": "f3e858f4",
   "metadata": {},
   "outputs": [],
   "source": [
    "head = soup.htmlText(css = '.articleSubject > a')\n",
    "link = soup.htmlAttr(css = '.articleSubject > a', key = 'href')\n",
    "body = soup.htmlText(css = '.articleSummary')"
   ]
  },
  {
   "cell_type": "code",
   "execution_count": 35,
   "id": "0bfe4ff7",
   "metadata": {},
   "outputs": [],
   "source": [
    "import pandas as pd"
   ]
  },
  {
   "cell_type": "code",
   "execution_count": 36,
   "id": "5732f3c9",
   "metadata": {},
   "outputs": [
    {
     "data": {
      "text/html": [
       "<div>\n",
       "<style scoped>\n",
       "    .dataframe tbody tr th:only-of-type {\n",
       "        vertical-align: middle;\n",
       "    }\n",
       "\n",
       "    .dataframe tbody tr th {\n",
       "        vertical-align: top;\n",
       "    }\n",
       "\n",
       "    .dataframe thead th {\n",
       "        text-align: right;\n",
       "    }\n",
       "</style>\n",
       "<table border=\"1\" class=\"dataframe\">\n",
       "  <thead>\n",
       "    <tr style=\"text-align: right;\">\n",
       "      <th></th>\n",
       "      <th>title</th>\n",
       "      <th>nlink</th>\n",
       "      <th>script</th>\n",
       "    </tr>\n",
       "  </thead>\n",
       "  <tbody>\n",
       "    <tr>\n",
       "      <th>0</th>\n",
       "      <td>침체 우려 속 ‘1월 효과’ 기대... 美 금리 방향성 가장 큰 변수 [주간 증시 전망]</td>\n",
       "      <td>/news/news_read.naver?article_id=0004949843&amp;of...</td>\n",
       "      <td>\\n\\t\\t\\t\\t\\t\\t\\t\\t\\t\\t1월 첫주 증시는 연말 증시 부진을 만회할 ...</td>\n",
       "    </tr>\n",
       "    <tr>\n",
       "      <th>1</th>\n",
       "      <td>[펀드와치]급락장에 웃은 코스닥 인버스…\"1월 효과 주목\"</td>\n",
       "      <td>/news/news_read.naver?article_id=0005397624&amp;of...</td>\n",
       "      <td>\\n\\t\\t\\t\\t\\t\\t\\t\\t\\t\\t막주 국내 증시 인플레 부담·긴축·배당락에 ...</td>\n",
       "    </tr>\n",
       "    <tr>\n",
       "      <th>2</th>\n",
       "      <td>[주간증시전망]1월효과에 쏠리는 눈…종목장세 전망</td>\n",
       "      <td>/news/news_read.naver?article_id=0005397588&amp;of...</td>\n",
       "      <td>\\n\\t\\t\\t\\t\\t\\t\\t\\t\\t\\t경기침체 우려에 1월효과 '중립' 무게장단기...</td>\n",
       "    </tr>\n",
       "    <tr>\n",
       "      <th>3</th>\n",
       "      <td>'최악 2022' 넘긴 美증시, 새해 상반기 더 나쁠 수 있지만…[월가시각]</td>\n",
       "      <td>/news/news_read.naver?article_id=0004835033&amp;of...</td>\n",
       "      <td>\\n\\t\\t\\t\\t\\t\\t\\t\\t\\t\\t['상저하고' 전망이 대세… 관건은 경기침체...</td>\n",
       "    </tr>\n",
       "  </tbody>\n",
       "</table>\n",
       "</div>"
      ],
      "text/plain": [
       "                                               title  \\\n",
       "0  침체 우려 속 ‘1월 효과’ 기대... 美 금리 방향성 가장 큰 변수 [주간 증시 전망]   \n",
       "1                   [펀드와치]급락장에 웃은 코스닥 인버스…\"1월 효과 주목\"   \n",
       "2                        [주간증시전망]1월효과에 쏠리는 눈…종목장세 전망   \n",
       "3         '최악 2022' 넘긴 美증시, 새해 상반기 더 나쁠 수 있지만…[월가시각]   \n",
       "\n",
       "                                               nlink  \\\n",
       "0  /news/news_read.naver?article_id=0004949843&of...   \n",
       "1  /news/news_read.naver?article_id=0005397624&of...   \n",
       "2  /news/news_read.naver?article_id=0005397588&of...   \n",
       "3  /news/news_read.naver?article_id=0004835033&of...   \n",
       "\n",
       "                                              script  \n",
       "0  \\n\\t\\t\\t\\t\\t\\t\\t\\t\\t\\t1월 첫주 증시는 연말 증시 부진을 만회할 ...  \n",
       "1  \\n\\t\\t\\t\\t\\t\\t\\t\\t\\t\\t막주 국내 증시 인플레 부담·긴축·배당락에 ...  \n",
       "2  \\n\\t\\t\\t\\t\\t\\t\\t\\t\\t\\t경기침체 우려에 1월효과 '중립' 무게장단기...  \n",
       "3  \\n\\t\\t\\t\\t\\t\\t\\t\\t\\t\\t['상저하고' 전망이 대세… 관건은 경기침체...  "
      ]
     },
     "execution_count": 36,
     "metadata": {},
     "output_type": "execute_result"
    }
   ],
   "source": [
    "df = pd.DataFrame(data = {'title': head, 'nlink': link, 'script': body})\n",
    "df"
   ]
  },
  {
   "cell_type": "code",
   "execution_count": null,
   "id": "852f898c",
   "metadata": {},
   "outputs": [],
   "source": []
  }
 ],
 "metadata": {
  "kernelspec": {
   "display_name": "Python 3 (ipykernel)",
   "language": "python",
   "name": "python3"
  },
  "language_info": {
   "codemirror_mode": {
    "name": "ipython",
    "version": 3
   },
   "file_extension": ".py",
   "mimetype": "text/x-python",
   "name": "python",
   "nbconvert_exporter": "python",
   "pygments_lexer": "ipython3",
   "version": "3.11.5"
  }
 },
 "nbformat": 4,
 "nbformat_minor": 5
}
