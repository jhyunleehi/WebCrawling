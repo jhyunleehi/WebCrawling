{
 "cells": [
  {
   "cell_type": "code",
   "execution_count": 1,
   "id": "fbd278cd",
   "metadata": {},
   "outputs": [],
   "source": [
    "from selenium import webdriver"
   ]
  },
  {
   "cell_type": "code",
   "execution_count": 2,
   "id": "2b1ab107",
   "metadata": {},
   "outputs": [],
   "source": [
    "remote = webdriver.Chrome()"
   ]
  },
  {
   "cell_type": "code",
   "execution_count": 3,
   "id": "bc403ed0",
   "metadata": {},
   "outputs": [],
   "source": [
    "remote.get('https://www.naver.com')"
   ]
  },
  {
   "cell_type": "code",
   "execution_count": 4,
   "id": "92000f6f",
   "metadata": {},
   "outputs": [],
   "source": [
    "remote.quit()"
   ]
  },
  {
   "cell_type": "code",
   "execution_count": 5,
   "id": "2764b08f",
   "metadata": {},
   "outputs": [],
   "source": [
    "remote = webdriver.Chrome()"
   ]
  },
  {
   "cell_type": "code",
   "execution_count": 6,
   "id": "b0947dea",
   "metadata": {},
   "outputs": [],
   "source": [
    "remote.get('https://finance.naver.com')\n",
    "# remote.implicitly_wait(3)\n",
    "import time\n",
    "time.sleep(3)"
   ]
  },
  {
   "cell_type": "code",
   "execution_count": 7,
   "id": "408f9553",
   "metadata": {},
   "outputs": [],
   "source": [
    "from selenium.webdriver.common.keys import Keys"
   ]
  },
  {
   "cell_type": "code",
   "execution_count": 8,
   "id": "47efab17",
   "metadata": {},
   "outputs": [],
   "source": [
    "value = '//*[@id=\"stock_items\"]'"
   ]
  },
  {
   "cell_type": "code",
   "execution_count": 9,
   "id": "acfb4a53",
   "metadata": {},
   "outputs": [],
   "source": [
    "query = remote.find_element(\n",
    "    by = 'xpath', \n",
    "    value = '//*[@id=\"stock_items\"]'\n",
    ")"
   ]
  },
  {
   "cell_type": "code",
   "execution_count": 10,
   "id": "6da6f628",
   "metadata": {},
   "outputs": [],
   "source": [
    "query.send_keys('삼성전자', Keys.ENTER)"
   ]
  },
  {
   "cell_type": "code",
   "execution_count": 11,
   "id": "b760eb2c",
   "metadata": {},
   "outputs": [],
   "source": [
    "from selenium.webdriver.common.by import By"
   ]
  },
  {
   "cell_type": "code",
   "execution_count": 12,
   "id": "1d189de8",
   "metadata": {},
   "outputs": [],
   "source": [
    "stock = remote.find_element(\n",
    "    by = By.LINK_TEXT, \n",
    "    value = '삼성전자'\n",
    ")"
   ]
  },
  {
   "cell_type": "code",
   "execution_count": 13,
   "id": "ebb5d97e",
   "metadata": {},
   "outputs": [],
   "source": [
    "stock.click()"
   ]
  },
  {
   "cell_type": "code",
   "execution_count": 14,
   "id": "af27df64",
   "metadata": {},
   "outputs": [],
   "source": [
    "remote.execute_script('window.scrollBy(0,1000)')"
   ]
  },
  {
   "cell_type": "code",
   "execution_count": 15,
   "id": "4baf23e3",
   "metadata": {},
   "outputs": [],
   "source": [
    "remote.execute_script('window.scrollBy(0,-1000)')"
   ]
  },
  {
   "cell_type": "code",
   "execution_count": 17,
   "id": "a2ed793c",
   "metadata": {
    "scrolled": true
   },
   "outputs": [],
   "source": [
    "remote.execute_script('window.scrollTo(0,document.body.scrollHeight)')"
   ]
  },
  {
   "cell_type": "code",
   "execution_count": 18,
   "id": "c93353b6",
   "metadata": {},
   "outputs": [],
   "source": [
    "remote.execute_script('window.scrollTo(0,0)')"
   ]
  },
  {
   "cell_type": "code",
   "execution_count": 19,
   "id": "ec856d13",
   "metadata": {},
   "outputs": [],
   "source": [
    "remote.back()"
   ]
  },
  {
   "cell_type": "code",
   "execution_count": 20,
   "id": "41629670",
   "metadata": {},
   "outputs": [],
   "source": [
    "remote.forward()"
   ]
  },
  {
   "cell_type": "code",
   "execution_count": 21,
   "id": "f7aecee1",
   "metadata": {},
   "outputs": [],
   "source": [
    "remote.refresh()"
   ]
  },
  {
   "cell_type": "code",
   "execution_count": 22,
   "id": "90c7e14e",
   "metadata": {},
   "outputs": [
    {
     "data": {
      "text/plain": [
       "True"
      ]
     },
     "execution_count": 22,
     "metadata": {},
     "output_type": "execute_result"
    }
   ],
   "source": [
    "remote.save_screenshot('test.png')"
   ]
  },
  {
   "cell_type": "code",
   "execution_count": 25,
   "id": "8ab8f93b",
   "metadata": {},
   "outputs": [],
   "source": [
    "items = remote.find_elements(\n",
    "    by = By.CSS_SELECTOR, \n",
    "    value = 'p.no_today > em > span'\n",
    ")"
   ]
  },
  {
   "cell_type": "code",
   "execution_count": 27,
   "id": "89b5ff30",
   "metadata": {},
   "outputs": [
    {
     "data": {
      "text/plain": [
       "6"
      ]
     },
     "execution_count": 27,
     "metadata": {},
     "output_type": "execute_result"
    }
   ],
   "source": [
    "len(items)"
   ]
  },
  {
   "cell_type": "code",
   "execution_count": 28,
   "id": "b4977668",
   "metadata": {},
   "outputs": [
    {
     "ename": "StaleElementReferenceException",
     "evalue": "Message: stale element reference: stale element not found\n  (Session info: chrome=121.0.6167.185); For documentation on this error, please visit: https://www.selenium.dev/documentation/webdriver/troubleshooting/errors#stale-element-reference-exception\nStacktrace:\n\tGetHandleVerifier [0x00007FF6DCEA7012+3522402]\n\t(No symbol) [0x00007FF6DCAC8352]\n\t(No symbol) [0x00007FF6DC975ABB]\n\t(No symbol) [0x00007FF6DC97AD09]\n\t(No symbol) [0x00007FF6DC97D110]\n\t(No symbol) [0x00007FF6DC97D1D0]\n\t(No symbol) [0x00007FF6DC9B71FB]\n\t(No symbol) [0x00007FF6DC9DF05A]\n\t(No symbol) [0x00007FF6DC9B120A]\n\t(No symbol) [0x00007FF6DC9DF270]\n\t(No symbol) [0x00007FF6DC9FBDA3]\n\t(No symbol) [0x00007FF6DC9DEE03]\n\t(No symbol) [0x00007FF6DC9AF4D4]\n\t(No symbol) [0x00007FF6DC9B05F1]\n\tGetHandleVerifier [0x00007FF6DCED9B9D+3730157]\n\tGetHandleVerifier [0x00007FF6DCF2F02D+4079485]\n\tGetHandleVerifier [0x00007FF6DCF275D3+4048163]\n\tGetHandleVerifier [0x00007FF6DCBFA649+718233]\n\t(No symbol) [0x00007FF6DCAD4A3F]\n\t(No symbol) [0x00007FF6DCACFA94]\n\t(No symbol) [0x00007FF6DCACFBC2]\n\t(No symbol) [0x00007FF6DCABF2E4]\n\tBaseThreadInitThunk [0x00007FFE6CED7604+20]\n\tRtlUserThreadStart [0x00007FFE6D0226A1+33]\n",
     "output_type": "error",
     "traceback": [
      "\u001b[1;31m---------------------------------------------------------------------------\u001b[0m",
      "\u001b[1;31mStaleElementReferenceException\u001b[0m            Traceback (most recent call last)",
      "Cell \u001b[1;32mIn[28], line 2\u001b[0m\n\u001b[0;32m      1\u001b[0m \u001b[38;5;28;01mfor\u001b[39;00m item \u001b[38;5;129;01min\u001b[39;00m items:\n\u001b[1;32m----> 2\u001b[0m     \u001b[38;5;28mprint\u001b[39m(\u001b[43mitem\u001b[49m\u001b[38;5;241;43m.\u001b[39;49m\u001b[43mtext\u001b[49m)\n",
      "File \u001b[1;32m~\\AppData\\Local\\Programs\\Python\\Python311\\Lib\\site-packages\\selenium\\webdriver\\remote\\webelement.py:89\u001b[0m, in \u001b[0;36mWebElement.text\u001b[1;34m(self)\u001b[0m\n\u001b[0;32m     86\u001b[0m \u001b[38;5;129m@property\u001b[39m\n\u001b[0;32m     87\u001b[0m \u001b[38;5;28;01mdef\u001b[39;00m \u001b[38;5;21mtext\u001b[39m(\u001b[38;5;28mself\u001b[39m) \u001b[38;5;241m-\u001b[39m\u001b[38;5;241m>\u001b[39m \u001b[38;5;28mstr\u001b[39m:\n\u001b[0;32m     88\u001b[0m \u001b[38;5;250m    \u001b[39m\u001b[38;5;124;03m\"\"\"The text of the element.\"\"\"\u001b[39;00m\n\u001b[1;32m---> 89\u001b[0m     \u001b[38;5;28;01mreturn\u001b[39;00m \u001b[38;5;28;43mself\u001b[39;49m\u001b[38;5;241;43m.\u001b[39;49m\u001b[43m_execute\u001b[49m\u001b[43m(\u001b[49m\u001b[43mCommand\u001b[49m\u001b[38;5;241;43m.\u001b[39;49m\u001b[43mGET_ELEMENT_TEXT\u001b[49m\u001b[43m)\u001b[49m[\u001b[38;5;124m\"\u001b[39m\u001b[38;5;124mvalue\u001b[39m\u001b[38;5;124m\"\u001b[39m]\n",
      "File \u001b[1;32m~\\AppData\\Local\\Programs\\Python\\Python311\\Lib\\site-packages\\selenium\\webdriver\\remote\\webelement.py:394\u001b[0m, in \u001b[0;36mWebElement._execute\u001b[1;34m(self, command, params)\u001b[0m\n\u001b[0;32m    392\u001b[0m     params \u001b[38;5;241m=\u001b[39m {}\n\u001b[0;32m    393\u001b[0m params[\u001b[38;5;124m\"\u001b[39m\u001b[38;5;124mid\u001b[39m\u001b[38;5;124m\"\u001b[39m] \u001b[38;5;241m=\u001b[39m \u001b[38;5;28mself\u001b[39m\u001b[38;5;241m.\u001b[39m_id\n\u001b[1;32m--> 394\u001b[0m \u001b[38;5;28;01mreturn\u001b[39;00m \u001b[38;5;28;43mself\u001b[39;49m\u001b[38;5;241;43m.\u001b[39;49m\u001b[43m_parent\u001b[49m\u001b[38;5;241;43m.\u001b[39;49m\u001b[43mexecute\u001b[49m\u001b[43m(\u001b[49m\u001b[43mcommand\u001b[49m\u001b[43m,\u001b[49m\u001b[43m \u001b[49m\u001b[43mparams\u001b[49m\u001b[43m)\u001b[49m\n",
      "File \u001b[1;32m~\\AppData\\Local\\Programs\\Python\\Python311\\Lib\\site-packages\\selenium\\webdriver\\remote\\webdriver.py:344\u001b[0m, in \u001b[0;36mWebDriver.execute\u001b[1;34m(self, driver_command, params)\u001b[0m\n\u001b[0;32m    342\u001b[0m response \u001b[38;5;241m=\u001b[39m \u001b[38;5;28mself\u001b[39m\u001b[38;5;241m.\u001b[39mcommand_executor\u001b[38;5;241m.\u001b[39mexecute(driver_command, params)\n\u001b[0;32m    343\u001b[0m \u001b[38;5;28;01mif\u001b[39;00m response:\n\u001b[1;32m--> 344\u001b[0m     \u001b[38;5;28;43mself\u001b[39;49m\u001b[38;5;241;43m.\u001b[39;49m\u001b[43merror_handler\u001b[49m\u001b[38;5;241;43m.\u001b[39;49m\u001b[43mcheck_response\u001b[49m\u001b[43m(\u001b[49m\u001b[43mresponse\u001b[49m\u001b[43m)\u001b[49m\n\u001b[0;32m    345\u001b[0m     response[\u001b[38;5;124m\"\u001b[39m\u001b[38;5;124mvalue\u001b[39m\u001b[38;5;124m\"\u001b[39m] \u001b[38;5;241m=\u001b[39m \u001b[38;5;28mself\u001b[39m\u001b[38;5;241m.\u001b[39m_unwrap_value(response\u001b[38;5;241m.\u001b[39mget(\u001b[38;5;124m\"\u001b[39m\u001b[38;5;124mvalue\u001b[39m\u001b[38;5;124m\"\u001b[39m, \u001b[38;5;28;01mNone\u001b[39;00m))\n\u001b[0;32m    346\u001b[0m     \u001b[38;5;28;01mreturn\u001b[39;00m response\n",
      "File \u001b[1;32m~\\AppData\\Local\\Programs\\Python\\Python311\\Lib\\site-packages\\selenium\\webdriver\\remote\\errorhandler.py:229\u001b[0m, in \u001b[0;36mErrorHandler.check_response\u001b[1;34m(self, response)\u001b[0m\n\u001b[0;32m    227\u001b[0m         alert_text \u001b[38;5;241m=\u001b[39m value[\u001b[38;5;124m\"\u001b[39m\u001b[38;5;124malert\u001b[39m\u001b[38;5;124m\"\u001b[39m]\u001b[38;5;241m.\u001b[39mget(\u001b[38;5;124m\"\u001b[39m\u001b[38;5;124mtext\u001b[39m\u001b[38;5;124m\"\u001b[39m)\n\u001b[0;32m    228\u001b[0m     \u001b[38;5;28;01mraise\u001b[39;00m exception_class(message, screen, stacktrace, alert_text)  \u001b[38;5;66;03m# type: ignore[call-arg]  # mypy is not smart enough here\u001b[39;00m\n\u001b[1;32m--> 229\u001b[0m \u001b[38;5;28;01mraise\u001b[39;00m exception_class(message, screen, stacktrace)\n",
      "\u001b[1;31mStaleElementReferenceException\u001b[0m: Message: stale element reference: stale element not found\n  (Session info: chrome=121.0.6167.185); For documentation on this error, please visit: https://www.selenium.dev/documentation/webdriver/troubleshooting/errors#stale-element-reference-exception\nStacktrace:\n\tGetHandleVerifier [0x00007FF6DCEA7012+3522402]\n\t(No symbol) [0x00007FF6DCAC8352]\n\t(No symbol) [0x00007FF6DC975ABB]\n\t(No symbol) [0x00007FF6DC97AD09]\n\t(No symbol) [0x00007FF6DC97D110]\n\t(No symbol) [0x00007FF6DC97D1D0]\n\t(No symbol) [0x00007FF6DC9B71FB]\n\t(No symbol) [0x00007FF6DC9DF05A]\n\t(No symbol) [0x00007FF6DC9B120A]\n\t(No symbol) [0x00007FF6DC9DF270]\n\t(No symbol) [0x00007FF6DC9FBDA3]\n\t(No symbol) [0x00007FF6DC9DEE03]\n\t(No symbol) [0x00007FF6DC9AF4D4]\n\t(No symbol) [0x00007FF6DC9B05F1]\n\tGetHandleVerifier [0x00007FF6DCED9B9D+3730157]\n\tGetHandleVerifier [0x00007FF6DCF2F02D+4079485]\n\tGetHandleVerifier [0x00007FF6DCF275D3+4048163]\n\tGetHandleVerifier [0x00007FF6DCBFA649+718233]\n\t(No symbol) [0x00007FF6DCAD4A3F]\n\t(No symbol) [0x00007FF6DCACFA94]\n\t(No symbol) [0x00007FF6DCACFBC2]\n\t(No symbol) [0x00007FF6DCABF2E4]\n\tBaseThreadInitThunk [0x00007FFE6CED7604+20]\n\tRtlUserThreadStart [0x00007FFE6D0226A1+33]\n"
     ]
    }
   ],
   "source": [
    "for item in items:\n",
    "    print(item.text)"
   ]
  },
  {
   "cell_type": "code",
   "execution_count": 29,
   "id": "accb641b",
   "metadata": {},
   "outputs": [],
   "source": [
    "from bs4 import BeautifulSoup as bts"
   ]
  },
  {
   "cell_type": "code",
   "execution_count": 30,
   "id": "d5386549",
   "metadata": {},
   "outputs": [],
   "source": [
    "soup = bts(markup = remote.page_source, \n",
    "           features = 'html.parser')"
   ]
  },
  {
   "cell_type": "code",
   "execution_count": 31,
   "id": "a01c0f25",
   "metadata": {},
   "outputs": [],
   "source": [
    "items = soup.select('p.no_today > em > span')"
   ]
  },
  {
   "cell_type": "code",
   "execution_count": 32,
   "id": "5421a927",
   "metadata": {},
   "outputs": [
    {
     "name": "stdout",
     "output_type": "stream",
     "text": [
      "7\n",
      "3\n",
      ",\n",
      "8\n",
      "0\n",
      "0\n"
     ]
    }
   ],
   "source": [
    "for item in items:\n",
    "    print(item.text)"
   ]
  },
  {
   "cell_type": "code",
   "execution_count": 33,
   "id": "cff1da8c",
   "metadata": {},
   "outputs": [],
   "source": [
    "remote.quit()"
   ]
  },
  {
   "cell_type": "code",
   "execution_count": null,
   "id": "af29808b",
   "metadata": {},
   "outputs": [],
   "source": []
  }
 ],
 "metadata": {
  "kernelspec": {
   "display_name": "Python 3 (ipykernel)",
   "language": "python",
   "name": "python3"
  },
  "language_info": {
   "codemirror_mode": {
    "name": "ipython",
    "version": 3
   },
   "file_extension": ".py",
   "mimetype": "text/x-python",
   "name": "python",
   "nbconvert_exporter": "python",
   "pygments_lexer": "ipython3",
   "version": "3.11.5"
  }
 },
 "nbformat": 4,
 "nbformat_minor": 5
}
